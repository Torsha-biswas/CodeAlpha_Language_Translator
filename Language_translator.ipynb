{
 "cells": [
  {
   "cell_type": "code",
   "execution_count": 1,
   "id": "4ca19777-dae4-4343-a6d1-644b3ca14e80",
   "metadata": {},
   "outputs": [],
   "source": [
    "from tkinter import *\n",
    "from tkinter import ttk\n",
    "from googletrans import Translator,LANGUAGES"
   ]
  },
  {
   "cell_type": "code",
   "execution_count": 2,
   "id": "6637e368-2394-4608-94d3-84d9cc78aef1",
   "metadata": {},
   "outputs": [],
   "source": [
    "root=Tk()\n",
    "root.geometry('1100x320')\n",
    "root.resizable(0,0)\n",
    "root['bg']='pink'\n",
    "root.title(\"Language Translator\")\n",
    "Label(root,text=\"Language Translator\",font=\"Arial 20 bold\").pack()\n"
   ]
  },
  {
   "cell_type": "code",
   "execution_count": 3,
   "id": "4c342c80-86b6-4036-befa-b91f5fe1a748",
   "metadata": {},
   "outputs": [],
   "source": [
    "Label(root,text=\"Enter Text\",font=\"Arial 13 bold\",bg='white smoke').place(x=165,y=90)"
   ]
  },
  {
   "cell_type": "code",
   "execution_count": 4,
   "id": "ce8e6312-fb20-4ff6-88ac-bf8f13c4aed0",
   "metadata": {},
   "outputs": [
    {
     "data": {
      "text/plain": [
       "''"
      ]
     },
     "execution_count": 4,
     "metadata": {},
     "output_type": "execute_result"
    }
   ],
   "source": [
    "Input_text=Entry(root,width=70)\n",
    "Input_text.place(x=30,y=130)\n",
    "Input_text.get()\n"
   ]
  },
  {
   "cell_type": "code",
   "execution_count": 5,
   "id": "efcea570-2128-4be2-93d9-9439d553b4f0",
   "metadata": {},
   "outputs": [],
   "source": [
    "Label(root,text='Output',font='Arial 13 bold',bg='white smoke').place(x=780,y=90)\n",
    "Output_text=Text(root,font='arial 10',height=5,wrap=WORD,padx=5,pady=5,width=50)\n",
    "Output_text.place(x=600,y=130)\n",
    "language=list(LANGUAGES.values())\n",
    "dest_lang=ttk.Combobox(root,values=language,width=22)\n",
    "dest_lang.place(x=130,y=180)\n",
    "dest_lang.set('choose language')\n",
    "def Translate():\n",
    "    translator= Translator()\n",
    "    translated= translator.translate(text=Input_text.get(),dest=dest_lang.get())\n",
    "    Output_text.delete(1.0,END)\n",
    "    Output_text.insert(END,translated.text)\n",
    "trans_btn=Button(root,text='Translate',font='arial 12 bold',pady=5,command=Translate,bg='orange',activebackground='green')\n",
    "trans_btn.place(x=445,y=180)               \n",
    "root.mainloop()"
   ]
  }
 ],
 "metadata": {
  "kernelspec": {
   "display_name": "Python 3 (ipykernel)",
   "language": "python",
   "name": "python3"
  },
  "language_info": {
   "codemirror_mode": {
    "name": "ipython",
    "version": 3
   },
   "file_extension": ".py",
   "mimetype": "text/x-python",
   "name": "python",
   "nbconvert_exporter": "python",
   "pygments_lexer": "ipython3",
   "version": "3.11.4"
  }
 },
 "nbformat": 4,
 "nbformat_minor": 5
}
